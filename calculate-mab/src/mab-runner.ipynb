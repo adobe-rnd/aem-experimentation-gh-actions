{
 "cells": [
  {
   "cell_type": "code",
   "execution_count": 1,
   "metadata": {},
   "outputs": [
    {
     "name": "stdout",
     "output_type": "stream",
     "text": [
      "test.json\n",
      "{'https://www.maidenform.com/m': [{'experiment': 'Hero Copy and CTA Test', 'variants': [{'name': 'challenger-2', 'views': 2250, 'clicks': {'.html-snippet': 10, '#lpclose': 140, '.grid-overlay #get-a-taste-of-our-mcollection': 10, '.grid-overlay': 90, '#lpshroud': 20, '.header': 10}, 'conversions': {'shop-m-bodywear': 70, 'shop-m-bras': 10, 'shop-m-underwear': 10}}, {'name': 'challenger-6', 'views': 2490, 'clicks': {'.grid-overlay': 150, '#lpshroud': 10, '#lpclose': 320, '.html-snippet': 110, '.header': 10, '.meet-m-quick-links': 10}, 'conversions': {'shop-m-bodywear': 130, 'shop-m-bras': 20}}, {'name': 'challenger-8', 'views': 730, 'clicks': {'.grid-overlay': 10, '.html-snippet': 10}, 'conversions': {'shop-m-bodywear': 10}}, {'name': 'challenger-4', 'views': 710, 'clicks': {'.html-snippet': 10, '.grid-overlay': 120, '.footer-links': 10, '#lpclose': 10, '.footer-links #my-account': 10, '.footer-links #footer-links-1': 10}, 'conversions': {'shop-m-bodywear': 20, 'shop-m-bras': 100}}, {'name': 'control', 'views': 130, 'clicks': {}, 'conversions': {}}]}]}\n"
     ]
    }
   ],
   "source": [
    "import os\n",
    "import json\n",
    "import pandas as pd\n",
    "\n",
    "RUM_FILE = os.getenv('RUM_FILE', 'test.json')\n",
    "print(RUM_FILE)\n",
    "f = open(RUM_FILE)\n",
    "data = json.load(f)\n",
    "f.close()\n",
    "print(data)"
   ]
  },
  {
   "cell_type": "code",
   "execution_count": 2,
   "metadata": {},
   "outputs": [
    {
     "ename": "KeyError",
     "evalue": "'name'",
     "output_type": "error",
     "traceback": [
      "\u001b[0;31m---------------------------------------------------------------------------\u001b[0m",
      "\u001b[0;31mKeyError\u001b[0m                                  Traceback (most recent call last)",
      "Cell \u001b[0;32mIn[2], line 20\u001b[0m\n\u001b[1;32m     18\u001b[0m \u001b[38;5;66;03m# create a new dataframe to store the results\u001b[39;00m\n\u001b[1;32m     19\u001b[0m df \u001b[38;5;241m=\u001b[39m pd\u001b[38;5;241m.\u001b[39mDataFrame(columns\u001b[38;5;241m=\u001b[39m[\u001b[38;5;124m'\u001b[39m\u001b[38;5;124mname\u001b[39m\u001b[38;5;124m'\u001b[39m, \u001b[38;5;124m'\u001b[39m\u001b[38;5;124mpageviews\u001b[39m\u001b[38;5;124m'\u001b[39m, \u001b[38;5;124m'\u001b[39m\u001b[38;5;124mclicks\u001b[39m\u001b[38;5;124m'\u001b[39m, \u001b[38;5;124m'\u001b[39m\u001b[38;5;124mctr\u001b[39m\u001b[38;5;124m'\u001b[39m, \u001b[38;5;124m'\u001b[39m\u001b[38;5;124mconversions\u001b[39m\u001b[38;5;124m'\u001b[39m, \u001b[38;5;124m'\u001b[39m\u001b[38;5;124mconversion_rate\u001b[39m\u001b[38;5;124m'\u001b[39m])\n\u001b[0;32m---> 20\u001b[0m \u001b[38;5;28;01mfor\u001b[39;00m variant_name \u001b[38;5;129;01min\u001b[39;00m \u001b[43mdata\u001b[49m\u001b[43m[\u001b[49m\u001b[38;5;124;43m'\u001b[39;49m\u001b[38;5;124;43mname\u001b[39;49m\u001b[38;5;124;43m'\u001b[39;49m\u001b[43m]\u001b[49m\u001b[38;5;241m.\u001b[39munique():\n\u001b[1;32m     21\u001b[0m     row \u001b[38;5;241m=\u001b[39m compute_ctr(data[data[\u001b[38;5;124m'\u001b[39m\u001b[38;5;124mname\u001b[39m\u001b[38;5;124m'\u001b[39m] \u001b[38;5;241m==\u001b[39m variant_name],  verbose\u001b[38;5;241m=\u001b[39m\u001b[38;5;241m1\u001b[39m)\n\u001b[1;32m     22\u001b[0m     df \u001b[38;5;241m=\u001b[39m pd\u001b[38;5;241m.\u001b[39mconcat([df, row], ignore_index\u001b[38;5;241m=\u001b[39m\u001b[38;5;28;01mTrue\u001b[39;00m)\n",
      "\u001b[0;31mKeyError\u001b[0m: 'name'"
     ]
    }
   ],
   "source": [
    "def compute_ctr(d, verbose=0):\n",
    "    if d['name'].unique().size == 0:\n",
    "        return\n",
    "    clicks = d[d['clicks'] == True].weight.sum()\n",
    "    convert = d[d['conversions'] == True].weight.sum()\n",
    "    pageviews = d.weight.sum()\n",
    "    ctr = round(clicks / pageviews if clicks > 0 else 0, 6)\n",
    "    convert_ctr = round(convert / pageviews if convert > 0 else 0, 6)\n",
    "    if verbose > 0:\n",
    "        print(f\"{d['name'].unique()} - {int(pageviews)} page views.  \")\n",
    "        print(f\" - {int(clicks)} clicks - {ctr:.2%} CTR\")\n",
    "        print(f\" - {int(convert)} conversions - {convert_ctr:.2%} conversion rate\")\n",
    "    # insert a new at the end of the dataframe\n",
    "    # ({'variant_name': d['variant_name'].unique()[0], 'pageviews': pageviews, 'clicks': clicks, 'ctr': ctr, 'conversions': convert, 'conversion_rate': convert_ctr}, ignore_index=True)\n",
    "    row = {'name': d['name'].unique()[0], 'pageviews': pageviews, 'clicks': clicks, 'ctr': ctr, 'conversions': convert, 'conversion_rate': convert_ctr}\n",
    "    return pd.DataFrame([row])\n",
    "\n",
    "# create a new dataframe to store the results\n",
    "df = pd.DataFrame(columns=['name', 'pageviews', 'clicks', 'ctr', 'conversions', 'conversion_rate'])\n",
    "for variant_name in data['name'].unique():\n",
    "    row = compute_ctr(data[data['name'] == variant_name],  verbose=1)\n",
    "    df = pd.concat([df, row], ignore_index=True)\n",
    "\n",
    "\n",
    "# sort df by variant_name\n",
    "df = df.sort_values(by='name')\n",
    "df\n"
   ]
  }
 ],
 "metadata": {
  "kernelspec": {
   "display_name": "gen-ai",
   "language": "python",
   "name": "python3"
  },
  "language_info": {
   "codemirror_mode": {
    "name": "ipython",
    "version": 3
   },
   "file_extension": ".py",
   "mimetype": "text/x-python",
   "name": "python",
   "nbconvert_exporter": "python",
   "pygments_lexer": "ipython3",
   "version": "3.10.14"
  }
 },
 "nbformat": 4,
 "nbformat_minor": 2
}
